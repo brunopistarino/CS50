{
 "cells": [
  {
   "cell_type": "code",
   "execution_count": 3,
   "metadata": {},
   "outputs": [
    {
     "name": "stdout",
     "output_type": "stream",
     "text": [
      "tails\n"
     ]
    }
   ],
   "source": [
    "from random import choice\n",
    "coin = choice([\"heads\", \"tails\"])\n",
    "print(coin)"
   ]
  },
  {
   "cell_type": "code",
   "execution_count": 9,
   "metadata": {},
   "outputs": [
    {
     "name": "stdout",
     "output_type": "stream",
     "text": [
      "8\n"
     ]
    }
   ],
   "source": [
    "import random\n",
    "number = random.randint(1, 10)\n",
    "print(number)"
   ]
  },
  {
   "cell_type": "code",
   "execution_count": 17,
   "metadata": {},
   "outputs": [
    {
     "name": "stdout",
     "output_type": "stream",
     "text": [
      "['Jack', 'Ace', 'Queen', 'King']\n"
     ]
    }
   ],
   "source": [
    "import random\n",
    "cards = [\"Jack\", \"Queen\", \"King\", \"Ace\"]\n",
    "random.shuffle(cards)\n",
    "print(cards)"
   ]
  },
  {
   "cell_type": "code",
   "execution_count": 20,
   "metadata": {},
   "outputs": [
    {
     "name": "stdout",
     "output_type": "stream",
     "text": [
      "4.875\n",
      "95\n"
     ]
    }
   ],
   "source": [
    "import statistics\n",
    "print(statistics.mean([1, 4, 4, 4, 5, 5, 7, 9]))\n",
    "print(statistics.mean([100, 90]))"
   ]
  },
  {
   "cell_type": "code",
   "execution_count": 32,
   "metadata": {},
   "outputs": [
    {
     "ename": "SystemExit",
     "evalue": "Too many arguments",
     "output_type": "error",
     "traceback": [
      "An exception has occurred, use %tb to see the full traceback.\n",
      "\u001b[1;31mSystemExit\u001b[0m\u001b[1;31m:\u001b[0m Too many arguments\n"
     ]
    }
   ],
   "source": [
    "# python name.py David\n",
    "import sys\n",
    "\n",
    "if len(sys.argv) < 2:\n",
    "    sys.exit(\"Too few arguments\")\n",
    "if len(sys.argv) > 2:\n",
    "    sys.exit(\"Too many arguments\")\n",
    "\n",
    "print(\"hello, my name is\", sys.argv[1])"
   ]
  },
  {
   "cell_type": "code",
   "execution_count": 33,
   "metadata": {},
   "outputs": [
    {
     "name": "stdout",
     "output_type": "stream",
     "text": [
      "hello, my name is --ip=127.0.0.1\n",
      "hello, my name is --stdin=9016\n",
      "hello, my name is --control=9006\n",
      "hello, my name is --hb=9005\n",
      "hello, my name is --Session.signature_scheme=\"hmac-sha256\"\n",
      "hello, my name is --Session.key=b\"1e6d32fb-ab31-4ca9-8fa7-5689a8b2d1d8\"\n",
      "hello, my name is --shell=9007\n",
      "hello, my name is --transport=\"tcp\"\n",
      "hello, my name is --iopub=9017\n",
      "hello, my name is --f=c:\\Users\\bruno\\AppData\\Roaming\\jupyter\\runtime\\kernel-v2-34416IGCLxS00wrNM.json\n"
     ]
    }
   ],
   "source": [
    "# pyhton name.py David Carter Rongxin\n",
    "import sys\n",
    "\n",
    "if len(sys.argv) < 2:\n",
    "    sys.exit(\"Too few arguments\")\n",
    "\n",
    "for arg in sys.argv[1:]:\n",
    "    print(\"hello, my name is\", arg)"
   ]
  },
  {
   "cell_type": "code",
   "execution_count": null,
   "metadata": {},
   "outputs": [],
   "source": [
    "# pyhton itunes.py weezer\n",
    "import requests\n",
    "import sys\n",
    "\n",
    "if len(sys.argv) != 2:\n",
    "    sys.exit()\n",
    "\n",
    "response = requests.get(\"https://itunes.apple.com/search?entity=song&limit=50&term=\" + sys.argv[1])\n",
    "\n",
    "o = response.json()\n",
    "for result in o[\"results\"]:\n",
    "    print(result[\"trackName\"])"
   ]
  },
  {
   "cell_type": "code",
   "execution_count": null,
   "metadata": {},
   "outputs": [],
   "source": [
    "# sayings.py\n",
    "def main():\n",
    "    hello(\"world\")\n",
    "    goodbye(\"world\")\n",
    "\n",
    "def hello(who):\n",
    "    print(\"hello,\", who)\n",
    "\n",
    "def goodbye(who):\n",
    "    print(\"goodbye,\", who)\n",
    "\n",
    "# esta línea evita que se ejecute cuando se importa\n",
    "if __name__ == \"__main__\":\n",
    "    main()\n",
    "    \n",
    "# ====================\n",
    "\n",
    "# sayings.py\n",
    "import sys\n",
    "from sayings import hello, goodbye\n",
    "\n",
    "if len(sys.argv) == 2:\n",
    "    hello(sys.argv[1])\n",
    "    goodbye(sys.argv[1])\n"
   ]
  }
 ],
 "metadata": {
  "kernelspec": {
   "display_name": "Python 3.11.0 64-bit",
   "language": "python",
   "name": "python3"
  },
  "language_info": {
   "codemirror_mode": {
    "name": "ipython",
    "version": 3
   },
   "file_extension": ".py",
   "mimetype": "text/x-python",
   "name": "python",
   "nbconvert_exporter": "python",
   "pygments_lexer": "ipython3",
   "version": "3.11.0"
  },
  "orig_nbformat": 4,
  "vscode": {
   "interpreter": {
    "hash": "c261aea317cc0286b3b3261fbba9abdec21eaa57589985bb7a274bf54d6cc0a7"
   }
  }
 },
 "nbformat": 4,
 "nbformat_minor": 2
}
